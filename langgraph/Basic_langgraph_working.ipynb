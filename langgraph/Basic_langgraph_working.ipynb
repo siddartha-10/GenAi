{
 "cells": [
  {
   "cell_type": "code",
   "execution_count": 9,
   "id": "8f143e58",
   "metadata": {},
   "outputs": [],
   "source": [
    "import os\n",
    "os.environ[\"LANGCHAIN_TRACING_V2\"] = \"true\"\n",
    "os.environ[\"LANGCHAIN_ENDPOINT\"] = \"https://api.langchain.plus\"\n",
    "os.environ[\"LANGCHAIN_API_KEY\"] = \"ls__7082e75dd76e44038b2a225f8832d2e3\"\n",
    "from langchain_openai import AzureChatOpenAI\n",
    "from dotenv import load_dotenv"
   ]
  },
  {
   "cell_type": "code",
   "execution_count": 12,
   "id": "7f1f22d0",
   "metadata": {},
   "outputs": [],
   "source": [
    "load_dotenv()\n",
    "os.environ[\"TAVILY_API_KEY\"] = os.environ.get(\"TAVILY_API_KEY\")\n",
    "default_llm = AzureChatOpenAI(\n",
    "    openai_api_version=os.environ.get(\"AZURE_OPENAI_VERSION\", \"2023-07-01-preview\"),\n",
    "    azure_deployment=os.environ.get(\"AZURE_OPENAI_DEPLOYMENT\", \"gpt4chat\"),\n",
    "    azure_endpoint=os.environ.get(\"AZURE_OPENAI_ENDPOINT\", \"https://gpt-4-trails.openai.azure.com/\"),\n",
    "    api_key=os.environ.get(\"AZURE_OPENAI_KEY\"),\n",
    "    streaming=True,\n",
    ")"
   ]
  },
  {
   "cell_type": "code",
   "execution_count": 11,
   "id": "69558a5d",
   "metadata": {},
   "outputs": [],
   "source": [
    "from langchain_community.tools.tavily_search import TavilySearchResults\n",
    "\n",
    "tools = [TavilySearchResults(max_results=1)]"
   ]
  },
  {
   "cell_type": "code",
   "execution_count": 13,
   "id": "8743436b",
   "metadata": {},
   "outputs": [],
   "source": [
    "from langchain import hub\n",
    "from langchain.agents import create_openai_functions_agent\n",
    "from langchain_community.tools.tavily_search import TavilySearchResults\n",
    "\n",
    "tools = [TavilySearchResults(max_results=1)]\n",
    "\n",
    "# Get the prompt to use - you can modify this!\n",
    "prompt = hub.pull(\"hwchase17/openai-functions-agent\")\n",
    "\n",
    "# Construct the OpenAI Functions agent\n",
    "agent_runnable = create_openai_functions_agent(default_llm, tools, prompt)"
   ]
  },
  {
   "cell_type": "code",
   "execution_count": 14,
   "id": "5ecad38b",
   "metadata": {},
   "outputs": [],
   "source": [
    "from typing import TypedDict, Annotated, List, Union\n",
    "from langchain_core.agents import AgentAction, AgentFinish\n",
    "from langchain_core.messages import BaseMessage\n",
    "import operator\n",
    "\n",
    "\n",
    "class AgentState(TypedDict):\n",
    "   # The input string\n",
    "   input: str\n",
    "   # The list of previous messages in the conversation\n",
    "   chat_history: list[BaseMessage]\n",
    "   # The outcome of a given call to the agent\n",
    "   # Needs `None` as a valid type, since this is what this will start as\n",
    "   agent_outcome: Union[AgentAction, AgentFinish, None]\n",
    "   # List of actions and corresponding observations\n",
    "   # Here we annotate this with `operator.add` to indicate that operations to\n",
    "   # this state should be ADDED to the existing values (not overwrite it)\n",
    "   intermediate_steps: Annotated[list[tuple[AgentAction, str]], operator.add]"
   ]
  },
  {
   "cell_type": "code",
   "execution_count": 15,
   "id": "71176f8d",
   "metadata": {},
   "outputs": [],
   "source": [
    "from langchain_core.agents import AgentFinish\n",
    "from langgraph.prebuilt.tool_executor import ToolExecutor\n",
    "\n",
    "tool_executor = ToolExecutor(tools)\n",
    "\n",
    "# we are defining the agent state here\n",
    "def run_agent(data):\n",
    "    agent_outcome = agent_runnable.invoke(data)\n",
    "    return {\"agent_outcome\": agent_outcome}\n",
    "\n",
    "# we are defing the function to execute the tools\n",
    "def execute_tools(data):\n",
    "    agent_action = data[\"agent_outcome\"]\n",
    "    ouput = tool_executor.invoke(agent_action)\n",
    "    return {\"intermediate_steps\": [(agent_action, str(ouput))]}\n",
    "\n",
    "# we are defining the function to check if the agent should continue or to exit\n",
    "def shoud_continue(data):\n",
    "    if isinstance(data[\"agent_outcome\"], AgentFinish):\n",
    "        return \"end\"\n",
    "    else:\n",
    "        return \"continue\""
   ]
  },
  {
   "cell_type": "code",
   "execution_count": 17,
   "id": "fcbde27b",
   "metadata": {},
   "outputs": [],
   "source": [
    "from langgraph.graph import END, StateGraph\n",
    "\n",
    "workflow = StateGraph(AgentState)\n",
    "\n",
    "workflow.add_node(\"agent\", run_agent)\n",
    "workflow.add_node(\"action\", execute_tools)\n",
    "\n",
    "workflow.set_entry_point(\"agent\")\n",
    "\n",
    "workflow.add_conditional_edges(\n",
    "    \"agent\",\n",
    "    shoud_continue,\n",
    "    {\n",
    "        \"continue\": \"action\",\n",
    "        \"end\": END,\n",
    "    }\n",
    ")\n",
    "\n",
    "workflow.add_edge(\"action\", \"agent\")\n",
    "\n",
    "app = workflow.compile()"
   ]
  },
  {
   "cell_type": "code",
   "execution_count": 18,
   "id": "0f425b41",
   "metadata": {},
   "outputs": [
    {
     "name": "stdout",
     "output_type": "stream",
     "text": [
      "{'agent_outcome': AgentActionMessageLog(tool='tavily_search_results_json', tool_input={'query': 'cheapest airfare price to go to India in May'}, log=\"\\nInvoking: `tavily_search_results_json` with `{'query': 'cheapest airfare price to go to India in May'}`\\n\\n\\n\", message_log=[AIMessage(content='', additional_kwargs={'function_call': {'arguments': '{\\n  \"query\": \"cheapest airfare price to go to India in May\"\\n}', 'name': 'tavily_search_results_json'}})])}\n",
      "----------------------------------\n",
      "{'intermediate_steps': [(AgentActionMessageLog(tool='tavily_search_results_json', tool_input={'query': 'cheapest airfare price to go to India in May'}, log=\"\\nInvoking: `tavily_search_results_json` with `{'query': 'cheapest airfare price to go to India in May'}`\\n\\n\\n\", message_log=[AIMessage(content='', additional_kwargs={'function_call': {'arguments': '{\\n  \"query\": \"cheapest airfare price to go to India in May\"\\n}', 'name': 'tavily_search_results_json'}})]), \"[{'url': 'https://www.cheapflights.com/flights-to-india/', 'content': 'Cheap flights to India in January & February 2024 India 2024 flight deals One-way flights to India  Cheap flights to India from $243 Flights to India in 2024 Find flights to India  When is the best time to book a flight to India?  for the top flight deals for routes out of India.Flights Asia Cheap flights to India Flights to India in 2024 High demand for flights, 11% potential price rise Search Deals Best time to find cheap flights, 4% potential price drop Search Deals Average for round-trip flights in January 2024 Search Deals From New York to New Delhi Indira Gandhi Intl Search Deals One-way flight from New York to India'}]\")]}\n",
      "----------------------------------\n",
      "{'agent_outcome': AgentFinish(return_values={'output': \"I found some information on a website called [Cheapflights](https://www.cheapflights.com/flights-to-india/). They have listed cheap flights to India from $243. However, the details are about flights in January & February 2024. \\n\\nPlease note that prices can fluctuate based on demand, the time of booking, and other factors. It's also important to consider that the price mentioned may not include additional costs like baggage fees or seat selection. \\n\\nFor the most accurate and up-to-date information, I recommend checking the website or contacting airlines directly.\"}, log=\"I found some information on a website called [Cheapflights](https://www.cheapflights.com/flights-to-india/). They have listed cheap flights to India from $243. However, the details are about flights in January & February 2024. \\n\\nPlease note that prices can fluctuate based on demand, the time of booking, and other factors. It's also important to consider that the price mentioned may not include additional costs like baggage fees or seat selection. \\n\\nFor the most accurate and up-to-date information, I recommend checking the website or contacting airlines directly.\")}\n",
      "----------------------------------\n",
      "{'input': 'What is cheapest airfare price to go to india in may! give me all the details', 'chat_history': [], 'agent_outcome': AgentFinish(return_values={'output': \"I found some information on a website called [Cheapflights](https://www.cheapflights.com/flights-to-india/). They have listed cheap flights to India from $243. However, the details are about flights in January & February 2024. \\n\\nPlease note that prices can fluctuate based on demand, the time of booking, and other factors. It's also important to consider that the price mentioned may not include additional costs like baggage fees or seat selection. \\n\\nFor the most accurate and up-to-date information, I recommend checking the website or contacting airlines directly.\"}, log=\"I found some information on a website called [Cheapflights](https://www.cheapflights.com/flights-to-india/). They have listed cheap flights to India from $243. However, the details are about flights in January & February 2024. \\n\\nPlease note that prices can fluctuate based on demand, the time of booking, and other factors. It's also important to consider that the price mentioned may not include additional costs like baggage fees or seat selection. \\n\\nFor the most accurate and up-to-date information, I recommend checking the website or contacting airlines directly.\"), 'intermediate_steps': [(AgentActionMessageLog(tool='tavily_search_results_json', tool_input={'query': 'cheapest airfare price to go to India in May'}, log=\"\\nInvoking: `tavily_search_results_json` with `{'query': 'cheapest airfare price to go to India in May'}`\\n\\n\\n\", message_log=[AIMessage(content='', additional_kwargs={'function_call': {'arguments': '{\\n  \"query\": \"cheapest airfare price to go to India in May\"\\n}', 'name': 'tavily_search_results_json'}})]), \"[{'url': 'https://www.cheapflights.com/flights-to-india/', 'content': 'Cheap flights to India in January & February 2024 India 2024 flight deals One-way flights to India  Cheap flights to India from $243 Flights to India in 2024 Find flights to India  When is the best time to book a flight to India?  for the top flight deals for routes out of India.Flights Asia Cheap flights to India Flights to India in 2024 High demand for flights, 11% potential price rise Search Deals Best time to find cheap flights, 4% potential price drop Search Deals Average for round-trip flights in January 2024 Search Deals From New York to New Delhi Indira Gandhi Intl Search Deals One-way flight from New York to India'}]\")]}\n",
      "----------------------------------\n"
     ]
    }
   ],
   "source": [
    "input = {\"input\": \"What is cheapest airfare price to go to india in may! give me all the details\", \"chat_history\": []}\n",
    "\n",
    "for s in app.stream(input):\n",
    "    print(list(s.values())[0])\n",
    "    print(\"----------------------------------\")\n"
   ]
  },
  {
   "cell_type": "code",
   "execution_count": 19,
   "id": "8d27035a",
   "metadata": {},
   "outputs": [
    {
     "name": "stdout",
     "output_type": "stream",
     "text": [
      "{'agent_outcome': AgentActionMessageLog(tool='tavily_search_results_json', tool_input={'query': 'entry level data science jobs'}, log=\"\\nInvoking: `tavily_search_results_json` with `{'query': 'entry level data science jobs'}`\\nresponded: I'm sorry for the misunderstanding, but as an AI, I'm unable to apply for jobs on your behalf. However, I can help you find out the number of entry-level data science jobs. Let's proceed with that.\\n\\n\", message_log=[AIMessage(content=\"I'm sorry for the misunderstanding, but as an AI, I'm unable to apply for jobs on your behalf. However, I can help you find out the number of entry-level data science jobs. Let's proceed with that.\", additional_kwargs={'function_call': {'arguments': '{\\n  \"query\": \"entry level data science jobs\"\\n}', 'name': 'tavily_search_results_json'}})])}\n",
      "----------------------------------\n",
      "{'intermediate_steps': [(AgentActionMessageLog(tool='tavily_search_results_json', tool_input={'query': 'entry level data science jobs'}, log=\"\\nInvoking: `tavily_search_results_json` with `{'query': 'entry level data science jobs'}`\\nresponded: I'm sorry for the misunderstanding, but as an AI, I'm unable to apply for jobs on your behalf. However, I can help you find out the number of entry-level data science jobs. Let's proceed with that.\\n\\n\", message_log=[AIMessage(content=\"I'm sorry for the misunderstanding, but as an AI, I'm unable to apply for jobs on your behalf. However, I can help you find out the number of entry-level data science jobs. Let's proceed with that.\", additional_kwargs={'function_call': {'arguments': '{\\n  \"query\": \"entry level data science jobs\"\\n}', 'name': 'tavily_search_results_json'}})]), \"[{'url': 'https://www.analyticsinsight.net/best-entry-level-data-science-jobs-for-2024-and-how-to-obtain/', 'content': 'Top entry-level Data Science careers of 2024 unveiled!  the strategies for securing your desired data science role in 2024.  enhancing your career in data science.  The 10 Most Influential CISOs to Watch in 2023 Best Entry-Level Data Science Jobs for 2024 and How to obtain?Business Intelligence (BI) Analyst: BI analysts specialize in analyzing business data, offering insights crucial for decision-making. They utilize tools such as Tableau or Power BI to craft visualizations and dashboards, transforming complex data into easily understandable formats for stakeholders within the organization.'}]\")]}\n",
      "----------------------------------\n",
      "{'agent_outcome': AgentFinish(return_values={'output': \"Based on the search results, I couldn't find the exact number of entry-level data science jobs. However, I found a valuable resource that discusses the best entry-level data science jobs for 2024 and how to secure them. You might want to look into a role as a Business Intelligence Analyst as an entry-level position, as they specialize in analyzing business data and use tools like Tableau or Power BI.\\n\\nYou can check out the full details [here](https://www.analyticsinsight.net/best-entry-level-data-science-jobs-for-2024-and-how-to-obtain/).\\n\\nI recommend conducting a search on job listing websites like LinkedIn, Indeed, or Glassdoor for more specific job listings and numbers.\"}, log=\"Based on the search results, I couldn't find the exact number of entry-level data science jobs. However, I found a valuable resource that discusses the best entry-level data science jobs for 2024 and how to secure them. You might want to look into a role as a Business Intelligence Analyst as an entry-level position, as they specialize in analyzing business data and use tools like Tableau or Power BI.\\n\\nYou can check out the full details [here](https://www.analyticsinsight.net/best-entry-level-data-science-jobs-for-2024-and-how-to-obtain/).\\n\\nI recommend conducting a search on job listing websites like LinkedIn, Indeed, or Glassdoor for more specific job listings and numbers.\")}\n",
      "----------------------------------\n",
      "{'input': \"Can you tell how many data science jobs are there for entry level and can you apply them for me?,i'll give you my resume\", 'chat_history': [], 'agent_outcome': AgentFinish(return_values={'output': \"Based on the search results, I couldn't find the exact number of entry-level data science jobs. However, I found a valuable resource that discusses the best entry-level data science jobs for 2024 and how to secure them. You might want to look into a role as a Business Intelligence Analyst as an entry-level position, as they specialize in analyzing business data and use tools like Tableau or Power BI.\\n\\nYou can check out the full details [here](https://www.analyticsinsight.net/best-entry-level-data-science-jobs-for-2024-and-how-to-obtain/).\\n\\nI recommend conducting a search on job listing websites like LinkedIn, Indeed, or Glassdoor for more specific job listings and numbers.\"}, log=\"Based on the search results, I couldn't find the exact number of entry-level data science jobs. However, I found a valuable resource that discusses the best entry-level data science jobs for 2024 and how to secure them. You might want to look into a role as a Business Intelligence Analyst as an entry-level position, as they specialize in analyzing business data and use tools like Tableau or Power BI.\\n\\nYou can check out the full details [here](https://www.analyticsinsight.net/best-entry-level-data-science-jobs-for-2024-and-how-to-obtain/).\\n\\nI recommend conducting a search on job listing websites like LinkedIn, Indeed, or Glassdoor for more specific job listings and numbers.\"), 'intermediate_steps': [(AgentActionMessageLog(tool='tavily_search_results_json', tool_input={'query': 'entry level data science jobs'}, log=\"\\nInvoking: `tavily_search_results_json` with `{'query': 'entry level data science jobs'}`\\nresponded: I'm sorry for the misunderstanding, but as an AI, I'm unable to apply for jobs on your behalf. However, I can help you find out the number of entry-level data science jobs. Let's proceed with that.\\n\\n\", message_log=[AIMessage(content=\"I'm sorry for the misunderstanding, but as an AI, I'm unable to apply for jobs on your behalf. However, I can help you find out the number of entry-level data science jobs. Let's proceed with that.\", additional_kwargs={'function_call': {'arguments': '{\\n  \"query\": \"entry level data science jobs\"\\n}', 'name': 'tavily_search_results_json'}})]), \"[{'url': 'https://www.analyticsinsight.net/best-entry-level-data-science-jobs-for-2024-and-how-to-obtain/', 'content': 'Top entry-level Data Science careers of 2024 unveiled!  the strategies for securing your desired data science role in 2024.  enhancing your career in data science.  The 10 Most Influential CISOs to Watch in 2023 Best Entry-Level Data Science Jobs for 2024 and How to obtain?Business Intelligence (BI) Analyst: BI analysts specialize in analyzing business data, offering insights crucial for decision-making. They utilize tools such as Tableau or Power BI to craft visualizations and dashboards, transforming complex data into easily understandable formats for stakeholders within the organization.'}]\")]}\n",
      "----------------------------------\n"
     ]
    }
   ],
   "source": [
    "input = {\"input\": \"Can you tell how many data science jobs are there for entry level and can you apply them for me?,i'll give you my resume\", \"chat_history\": []}\n",
    "\n",
    "for s in app.stream(input):\n",
    "    print(list(s.values())[0])\n",
    "    print(\"----------------------------------\")\n"
   ]
  },
  {
   "cell_type": "code",
   "execution_count": null,
   "id": "9e05c4fb",
   "metadata": {},
   "outputs": [],
   "source": []
  }
 ],
 "metadata": {
  "kernelspec": {
   "display_name": "Python 3 (ipykernel)",
   "language": "python",
   "name": "python3"
  },
  "language_info": {
   "codemirror_mode": {
    "name": "ipython",
    "version": 3
   },
   "file_extension": ".py",
   "mimetype": "text/x-python",
   "name": "python",
   "nbconvert_exporter": "python",
   "pygments_lexer": "ipython3",
   "version": "3.10.11"
  }
 },
 "nbformat": 4,
 "nbformat_minor": 5
}
