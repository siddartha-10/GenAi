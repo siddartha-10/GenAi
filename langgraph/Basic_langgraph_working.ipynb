{
 "cells": [
  {
   "cell_type": "code",
   "execution_count": 1,
   "id": "8f143e58",
   "metadata": {},
   "outputs": [],
   "source": [
    "import os\n",
    "os.environ[\"LANGCHAIN_TRACING_V2\"] = \"true\"\n",
    "os.environ[\"LANGCHAIN_ENDPOINT\"] = \"https://api.langchain.plus\"\n",
    "os.environ[\"LANGCHAIN_API_KEY\"] = \"ls__7082e75dd76e44038b2a225f8832d2e3\"\n",
    "from langchain_openai import AzureChatOpenAI\n",
    "from dotenv import load_dotenv"
   ]
  },
  {
   "cell_type": "code",
   "execution_count": 2,
   "id": "7f1f22d0",
   "metadata": {},
   "outputs": [],
   "source": [
    "load_dotenv()\n",
    "os.environ[\"TAVILY_API_KEY\"] = os.environ.get(\"TAVILY_API_KEY\")\n",
    "default_llm = AzureChatOpenAI(\n",
    "    openai_api_version=os.environ.get(\"AZURE_OPENAI_VERSION\", \"2023-07-01-preview\"),\n",
    "    azure_deployment=os.environ.get(\"AZURE_OPENAI_DEPLOYMENT\", \"gpt4chat\"),\n",
    "    azure_endpoint=os.environ.get(\"AZURE_OPENAI_ENDPOINT\", \"https://gpt-4-trails.openai.azure.com/\"),\n",
    "    api_key=os.environ.get(\"AZURE_OPENAI_KEY\"),\n",
    "    streaming=True,\n",
    ")"
   ]
  },
  {
   "cell_type": "code",
   "execution_count": 3,
   "id": "69558a5d",
   "metadata": {},
   "outputs": [],
   "source": [
    "from langchain_community.tools.tavily_search import TavilySearchResults\n",
    "\n",
    "tools = [TavilySearchResults(max_results=1)]"
   ]
  },
  {
   "cell_type": "code",
   "execution_count": 4,
   "id": "8743436b",
   "metadata": {},
   "outputs": [],
   "source": [
    "from langchain import hub\n",
    "from langchain.agents import create_openai_functions_agent\n",
    "from langchain_community.tools.tavily_search import TavilySearchResults\n",
    "\n",
    "tools = [TavilySearchResults(max_results=1)]\n",
    "\n",
    "# Get the prompt to use - you can modify this!\n",
    "prompt = hub.pull(\"hwchase17/openai-functions-agent\")\n",
    "\n",
    "# Construct the OpenAI Functions agent\n",
    "agent_runnable = create_openai_functions_agent(default_llm, tools, prompt)"
   ]
  },
  {
   "cell_type": "code",
   "execution_count": 5,
   "id": "5ecad38b",
   "metadata": {},
   "outputs": [],
   "source": [
    "from typing import TypedDict, Annotated, List, Union\n",
    "from langchain_core.agents import AgentAction, AgentFinish\n",
    "from langchain_core.messages import BaseMessage\n",
    "import operator\n",
    "\n",
    "\n",
    "class AgentState(TypedDict):\n",
    "   # The input string\n",
    "   input: str\n",
    "   # The list of previous messages in the conversation\n",
    "   chat_history: list[BaseMessage]\n",
    "   # The outcome of a given call to the agent\n",
    "   # Needs `None` as a valid type, since this is what this will start as\n",
    "   agent_outcome: Union[AgentAction, AgentFinish, None]\n",
    "   # List of actions and corresponding observations\n",
    "   # Here we annotate this with `operator.add` to indicate that operations to\n",
    "   # this state should be ADDED to the existing values (not overwrite it)\n",
    "   intermediate_steps: Annotated[list[tuple[AgentAction, str]], operator.add]"
   ]
  },
  {
   "cell_type": "code",
   "execution_count": 6,
   "id": "71176f8d",
   "metadata": {},
   "outputs": [],
   "source": [
    "from langchain_core.agents import AgentFinish\n",
    "from langgraph.prebuilt.tool_executor import ToolExecutor\n",
    "\n",
    "tool_executor = ToolExecutor(tools)\n",
    "\n",
    "# we are defining the agent state here\n",
    "def run_agent(data):\n",
    "    agent_outcome = agent_runnable.invoke(data)\n",
    "    return {\"agent_outcome\": agent_outcome}\n",
    "\n",
    "# we are defing the function to execute the tools\n",
    "def execute_tools(data):\n",
    "    agent_action = data[\"agent_outcome\"]\n",
    "    ouput = tool_executor.invoke(agent_action)\n",
    "    return {\"intermediate_steps\": [(agent_action, str(ouput))]}\n",
    "\n",
    "# we are defining the function to check if the agent should continue or to exit\n",
    "def shoud_continue(data):\n",
    "    if isinstance(data[\"agent_outcome\"], AgentFinish):\n",
    "        return \"end\"\n",
    "    else:\n",
    "        return \"continue\""
   ]
  },
  {
   "cell_type": "code",
   "execution_count": 7,
   "id": "fcbde27b",
   "metadata": {},
   "outputs": [],
   "source": [
    "from langgraph.graph import END, StateGraph\n",
    "\n",
    "workflow = StateGraph(AgentState)\n",
    "\n",
    "workflow.add_node(\"agent\", run_agent)\n",
    "workflow.add_node(\"action\", execute_tools)\n",
    "\n",
    "workflow.set_entry_point(\"agent\")\n",
    "\n",
    "workflow.add_conditional_edges(\n",
    "    \"agent\",\n",
    "    shoud_continue,\n",
    "    {\n",
    "        \"continue\": \"action\",\n",
    "        \"end\": END,\n",
    "    }\n",
    ")\n",
    "\n",
    "workflow.add_edge(\"action\", \"agent\")\n",
    "\n",
    "app = workflow.compile()"
   ]
  },
  {
   "cell_type": "code",
   "execution_count": 8,
   "id": "0f425b41",
   "metadata": {},
   "outputs": [
    {
     "name": "stdout",
     "output_type": "stream",
     "text": [
      "{'agent_outcome': AgentActionMessageLog(tool='tavily_search_results_json', tool_input={'query': 'cheapest airfare to India in May 2022'}, log=\"\\nInvoking: `tavily_search_results_json` with `{'query': 'cheapest airfare to India in May 2022'}`\\n\\n\\n\", message_log=[AIMessage(content='', additional_kwargs={'function_call': {'arguments': '{\\n  \"query\": \"cheapest airfare to India in May 2022\"\\n}', 'name': 'tavily_search_results_json'}})])}\n",
      "----------------------------------\n",
      "{'intermediate_steps': [(AgentActionMessageLog(tool='tavily_search_results_json', tool_input={'query': 'cheapest airfare to India in May 2022'}, log=\"\\nInvoking: `tavily_search_results_json` with `{'query': 'cheapest airfare to India in May 2022'}`\\n\\n\\n\", message_log=[AIMessage(content='', additional_kwargs={'function_call': {'arguments': '{\\n  \"query\": \"cheapest airfare to India in May 2022\"\\n}', 'name': 'tavily_search_results_json'}})]), \"[{'url': 'https://www.cheapflights.com/flights-to-india/', 'content': 'Deals found on 1/23 Average price of flights to India by month  When is the best time to book a flight to India?  Cheap flights to India in January & February 2024 India 2024 flight deals One-way flights to India  for the top flight deals for routes out of India.Currently, September is the cheapest month in which you can book a flight to India (average of $894). Flying to India in June will prove the most costly (average of $1,520). There are multiple factors that influence the price of a flight so comparing airlines, departure airports and times can help keep costs down.'}]\")]}\n",
      "----------------------------------\n",
      "{'agent_outcome': AgentFinish(return_values={'output': 'The cheapest month to book a flight to India is currently September, with an average price of $894. Flying to India in June tends to be the most costly, with an average price of $1,520. These prices are influenced by various factors, and comparing airlines, departure airports, and times can help keep costs down. \\n\\nFor specific pricing in May, I recommend checking directly with airlines or flight booking platforms as prices can vary and change quickly. \\n\\nFor more details, you can visit this [source](https://www.cheapflights.com/flights-to-india/).'}, log='The cheapest month to book a flight to India is currently September, with an average price of $894. Flying to India in June tends to be the most costly, with an average price of $1,520. These prices are influenced by various factors, and comparing airlines, departure airports, and times can help keep costs down. \\n\\nFor specific pricing in May, I recommend checking directly with airlines or flight booking platforms as prices can vary and change quickly. \\n\\nFor more details, you can visit this [source](https://www.cheapflights.com/flights-to-india/).')}\n",
      "----------------------------------\n",
      "{'input': 'What is cheapest airfare price to go to india in may! give me all the details', 'chat_history': [], 'agent_outcome': AgentFinish(return_values={'output': 'The cheapest month to book a flight to India is currently September, with an average price of $894. Flying to India in June tends to be the most costly, with an average price of $1,520. These prices are influenced by various factors, and comparing airlines, departure airports, and times can help keep costs down. \\n\\nFor specific pricing in May, I recommend checking directly with airlines or flight booking platforms as prices can vary and change quickly. \\n\\nFor more details, you can visit this [source](https://www.cheapflights.com/flights-to-india/).'}, log='The cheapest month to book a flight to India is currently September, with an average price of $894. Flying to India in June tends to be the most costly, with an average price of $1,520. These prices are influenced by various factors, and comparing airlines, departure airports, and times can help keep costs down. \\n\\nFor specific pricing in May, I recommend checking directly with airlines or flight booking platforms as prices can vary and change quickly. \\n\\nFor more details, you can visit this [source](https://www.cheapflights.com/flights-to-india/).'), 'intermediate_steps': [(AgentActionMessageLog(tool='tavily_search_results_json', tool_input={'query': 'cheapest airfare to India in May 2022'}, log=\"\\nInvoking: `tavily_search_results_json` with `{'query': 'cheapest airfare to India in May 2022'}`\\n\\n\\n\", message_log=[AIMessage(content='', additional_kwargs={'function_call': {'arguments': '{\\n  \"query\": \"cheapest airfare to India in May 2022\"\\n}', 'name': 'tavily_search_results_json'}})]), \"[{'url': 'https://www.cheapflights.com/flights-to-india/', 'content': 'Deals found on 1/23 Average price of flights to India by month  When is the best time to book a flight to India?  Cheap flights to India in January & February 2024 India 2024 flight deals One-way flights to India  for the top flight deals for routes out of India.Currently, September is the cheapest month in which you can book a flight to India (average of $894). Flying to India in June will prove the most costly (average of $1,520). There are multiple factors that influence the price of a flight so comparing airlines, departure airports and times can help keep costs down.'}]\")]}\n",
      "----------------------------------\n"
     ]
    }
   ],
   "source": [
    "input = {\"input\": \"What is cheapest airfare price to go to india in may! give me all the details\", \"chat_history\": []}\n",
    "\n",
    "for s in app.stream(input):\n",
    "    print(list(s.values())[0])\n",
    "    print(\"----------------------------------\")\n"
   ]
  },
  {
   "cell_type": "code",
   "execution_count": 9,
   "id": "8d27035a",
   "metadata": {},
   "outputs": [
    {
     "name": "stdout",
     "output_type": "stream",
     "text": [
      "{'agent_outcome': AgentActionMessageLog(tool='tavily_search_results_json', tool_input={'query': 'entry level data science jobs'}, log=\"\\nInvoking: `tavily_search_results_json` with `{'query': 'entry level data science jobs'}`\\nresponded: I'm sorry for the misunderstanding, but as an AI, I don't have the capability to apply for jobs on your behalf. However, I can help you find the number of entry-level data science jobs available at the moment. Let's do that.\\n\\n\", message_log=[AIMessage(content=\"I'm sorry for the misunderstanding, but as an AI, I don't have the capability to apply for jobs on your behalf. However, I can help you find the number of entry-level data science jobs available at the moment. Let's do that.\", additional_kwargs={'function_call': {'arguments': '{\\n  \"query\": \"entry level data science jobs\"\\n}', 'name': 'tavily_search_results_json'}})])}\n",
      "----------------------------------\n",
      "{'intermediate_steps': [(AgentActionMessageLog(tool='tavily_search_results_json', tool_input={'query': 'entry level data science jobs'}, log=\"\\nInvoking: `tavily_search_results_json` with `{'query': 'entry level data science jobs'}`\\nresponded: I'm sorry for the misunderstanding, but as an AI, I don't have the capability to apply for jobs on your behalf. However, I can help you find the number of entry-level data science jobs available at the moment. Let's do that.\\n\\n\", message_log=[AIMessage(content=\"I'm sorry for the misunderstanding, but as an AI, I don't have the capability to apply for jobs on your behalf. However, I can help you find the number of entry-level data science jobs available at the moment. Let's do that.\", additional_kwargs={'function_call': {'arguments': '{\\n  \"query\": \"entry level data science jobs\"\\n}', 'name': 'tavily_search_results_json'}})]), \"[{'url': 'https://www.analyticsinsight.net/best-entry-level-data-science-jobs-for-2024-and-how-to-obtain/', 'content': 'Top entry-level Data Science careers of 2024 unveiled!  the strategies for securing your desired data science role in 2024.  enhancing your career in data science.  The 10 Most Influential CISOs to Watch in 2023 Best Entry-Level Data Science Jobs for 2024 and How to obtain?3 mins read Top entry-level Data Science careers of 2024 unveiled! The allure of data science lies in its potential for impactful problem-solving, cutting-edge technology, and lucrative career opportunities. However, for aspiring data scientists, navigating the entry-level landscape can be akin to solving a complex puzzle.'}]\")]}\n",
      "----------------------------------\n",
      "{'agent_outcome': AgentFinish(return_values={'output': \"I'm sorry, but I was unable to find the specific number of entry-level data science jobs available at the moment. However, the field of data science is growing and there are many opportunities available. I would suggest checking on job posting websites like LinkedIn, Indeed, or Glassdoor for the most current listings. You can also set up job alerts on these sites to be notified of new entry-level data science jobs as they become available.\"}, log=\"I'm sorry, but I was unable to find the specific number of entry-level data science jobs available at the moment. However, the field of data science is growing and there are many opportunities available. I would suggest checking on job posting websites like LinkedIn, Indeed, or Glassdoor for the most current listings. You can also set up job alerts on these sites to be notified of new entry-level data science jobs as they become available.\")}\n",
      "----------------------------------\n",
      "{'input': \"Can you tell how many data science jobs are there for entry level and can you apply them for me?,i'll give you my resume\", 'chat_history': [], 'agent_outcome': AgentFinish(return_values={'output': \"I'm sorry, but I was unable to find the specific number of entry-level data science jobs available at the moment. However, the field of data science is growing and there are many opportunities available. I would suggest checking on job posting websites like LinkedIn, Indeed, or Glassdoor for the most current listings. You can also set up job alerts on these sites to be notified of new entry-level data science jobs as they become available.\"}, log=\"I'm sorry, but I was unable to find the specific number of entry-level data science jobs available at the moment. However, the field of data science is growing and there are many opportunities available. I would suggest checking on job posting websites like LinkedIn, Indeed, or Glassdoor for the most current listings. You can also set up job alerts on these sites to be notified of new entry-level data science jobs as they become available.\"), 'intermediate_steps': [(AgentActionMessageLog(tool='tavily_search_results_json', tool_input={'query': 'entry level data science jobs'}, log=\"\\nInvoking: `tavily_search_results_json` with `{'query': 'entry level data science jobs'}`\\nresponded: I'm sorry for the misunderstanding, but as an AI, I don't have the capability to apply for jobs on your behalf. However, I can help you find the number of entry-level data science jobs available at the moment. Let's do that.\\n\\n\", message_log=[AIMessage(content=\"I'm sorry for the misunderstanding, but as an AI, I don't have the capability to apply for jobs on your behalf. However, I can help you find the number of entry-level data science jobs available at the moment. Let's do that.\", additional_kwargs={'function_call': {'arguments': '{\\n  \"query\": \"entry level data science jobs\"\\n}', 'name': 'tavily_search_results_json'}})]), \"[{'url': 'https://www.analyticsinsight.net/best-entry-level-data-science-jobs-for-2024-and-how-to-obtain/', 'content': 'Top entry-level Data Science careers of 2024 unveiled!  the strategies for securing your desired data science role in 2024.  enhancing your career in data science.  The 10 Most Influential CISOs to Watch in 2023 Best Entry-Level Data Science Jobs for 2024 and How to obtain?3 mins read Top entry-level Data Science careers of 2024 unveiled! The allure of data science lies in its potential for impactful problem-solving, cutting-edge technology, and lucrative career opportunities. However, for aspiring data scientists, navigating the entry-level landscape can be akin to solving a complex puzzle.'}]\")]}\n",
      "----------------------------------\n"
     ]
    }
   ],
   "source": [
    "input = {\"input\": \"Can you tell how many data science jobs are there for entry level and can you apply them for me?,i'll give you my resume\", \"chat_history\": []}\n",
    "\n",
    "for s in app.stream(input):\n",
    "    print(list(s.values())[0])\n",
    "    print(\"----------------------------------\")\n"
   ]
  },
  {
   "cell_type": "code",
   "execution_count": null,
   "id": "9e05c4fb",
   "metadata": {},
   "outputs": [],
   "source": []
  }
 ],
 "metadata": {
  "kernelspec": {
   "display_name": "Python 3 (ipykernel)",
   "language": "python",
   "name": "python3"
  },
  "language_info": {
   "codemirror_mode": {
    "name": "ipython",
    "version": 3
   },
   "file_extension": ".py",
   "mimetype": "text/x-python",
   "name": "python",
   "nbconvert_exporter": "python",
   "pygments_lexer": "ipython3",
   "version": "3.10.11"
  }
 },
 "nbformat": 4,
 "nbformat_minor": 5
}
